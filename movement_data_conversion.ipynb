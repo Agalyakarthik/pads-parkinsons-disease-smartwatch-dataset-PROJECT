{
 "cells": [
  {
   "cell_type": "code",
   "execution_count": 16,
   "id": "14a28dad-4c86-4e07-b3a7-f27606655d75",
   "metadata": {},
   "outputs": [],
   "source": [
    "import numpy as np \n",
    "import pandas as pd"
   ]
  },
  {
   "cell_type": "code",
   "execution_count": 18,
   "id": "6b4a3f32-07d8-4b6b-9e6a-9e2f275ca6fb",
   "metadata": {},
   "outputs": [],
   "source": [
    "# Read the CSV file into a DataFrame\n",
    "movement_data = pd.read_csv('movement_data_flattened.csv')\n"
   ]
  },
  {
   "cell_type": "code",
   "execution_count": 20,
   "id": "51e37648-e649-4d14-878b-10d15dc1ecdb",
   "metadata": {},
   "outputs": [
    {
     "data": {
      "text/html": [
       "<div>\n",
       "<style scoped>\n",
       "    .dataframe tbody tr th:only-of-type {\n",
       "        vertical-align: middle;\n",
       "    }\n",
       "\n",
       "    .dataframe tbody tr th {\n",
       "        vertical-align: top;\n",
       "    }\n",
       "\n",
       "    .dataframe thead th {\n",
       "        text-align: right;\n",
       "    }\n",
       "</style>\n",
       "<table border=\"1\" class=\"dataframe\">\n",
       "  <thead>\n",
       "    <tr style=\"text-align: right;\">\n",
       "      <th></th>\n",
       "      <th>subject_id</th>\n",
       "      <th>study_id</th>\n",
       "      <th>device_id</th>\n",
       "      <th>record_id</th>\n",
       "      <th>record_name</th>\n",
       "      <th>rows</th>\n",
       "      <th>device_location</th>\n",
       "      <th>Time</th>\n",
       "      <th>Accelerometer_X</th>\n",
       "      <th>Accelerometer_Y</th>\n",
       "      <th>Accelerometer_Z</th>\n",
       "      <th>Gyroscope_X</th>\n",
       "      <th>Gyroscope_Y</th>\n",
       "      <th>Gyroscope_Z</th>\n",
       "    </tr>\n",
       "  </thead>\n",
       "  <tbody>\n",
       "    <tr>\n",
       "      <th>0</th>\n",
       "      <td>1</td>\n",
       "      <td>PADS</td>\n",
       "      <td>Apple Watch Series 4</td>\n",
       "      <td>Neurological Assessment</td>\n",
       "      <td>Relaxed</td>\n",
       "      <td>2048</td>\n",
       "      <td>LeftWrist</td>\n",
       "      <td>0.000000</td>\n",
       "      <td>-0.003958</td>\n",
       "      <td>0.002360</td>\n",
       "      <td>1.746120e-03</td>\n",
       "      <td>-0.015492</td>\n",
       "      <td>0.005616</td>\n",
       "      <td>0.001034</td>\n",
       "    </tr>\n",
       "    <tr>\n",
       "      <th>1</th>\n",
       "      <td>1</td>\n",
       "      <td>PADS</td>\n",
       "      <td>Apple Watch Series 4</td>\n",
       "      <td>Neurological Assessment</td>\n",
       "      <td>Relaxed</td>\n",
       "      <td>2048</td>\n",
       "      <td>LeftWrist</td>\n",
       "      <td>0.009903</td>\n",
       "      <td>-0.004005</td>\n",
       "      <td>0.002259</td>\n",
       "      <td>8.355394e-04</td>\n",
       "      <td>-0.012276</td>\n",
       "      <td>0.005605</td>\n",
       "      <td>-0.003218</td>\n",
       "    </tr>\n",
       "    <tr>\n",
       "      <th>2</th>\n",
       "      <td>1</td>\n",
       "      <td>PADS</td>\n",
       "      <td>Apple Watch Series 4</td>\n",
       "      <td>Neurological Assessment</td>\n",
       "      <td>Relaxed</td>\n",
       "      <td>2048</td>\n",
       "      <td>LeftWrist</td>\n",
       "      <td>0.019901</td>\n",
       "      <td>0.000833</td>\n",
       "      <td>0.002225</td>\n",
       "      <td>9.437218e-04</td>\n",
       "      <td>-0.009051</td>\n",
       "      <td>0.002432</td>\n",
       "      <td>-0.002137</td>\n",
       "    </tr>\n",
       "    <tr>\n",
       "      <th>3</th>\n",
       "      <td>1</td>\n",
       "      <td>PADS</td>\n",
       "      <td>Apple Watch Series 4</td>\n",
       "      <td>Neurological Assessment</td>\n",
       "      <td>Relaxed</td>\n",
       "      <td>2048</td>\n",
       "      <td>LeftWrist</td>\n",
       "      <td>0.029907</td>\n",
       "      <td>-0.000191</td>\n",
       "      <td>0.004109</td>\n",
       "      <td>4.783000e-07</td>\n",
       "      <td>-0.008911</td>\n",
       "      <td>0.002154</td>\n",
       "      <td>-0.000931</td>\n",
       "    </tr>\n",
       "    <tr>\n",
       "      <th>4</th>\n",
       "      <td>1</td>\n",
       "      <td>PADS</td>\n",
       "      <td>Apple Watch Series 4</td>\n",
       "      <td>Neurological Assessment</td>\n",
       "      <td>Relaxed</td>\n",
       "      <td>2048</td>\n",
       "      <td>LeftWrist</td>\n",
       "      <td>0.039984</td>\n",
       "      <td>0.001769</td>\n",
       "      <td>0.004064</td>\n",
       "      <td>-1.902400e-03</td>\n",
       "      <td>-0.007830</td>\n",
       "      <td>0.000034</td>\n",
       "      <td>0.000145</td>\n",
       "    </tr>\n",
       "  </tbody>\n",
       "</table>\n",
       "</div>"
      ],
      "text/plain": [
       "   subject_id study_id             device_id                record_id  \\\n",
       "0           1     PADS  Apple Watch Series 4  Neurological Assessment   \n",
       "1           1     PADS  Apple Watch Series 4  Neurological Assessment   \n",
       "2           1     PADS  Apple Watch Series 4  Neurological Assessment   \n",
       "3           1     PADS  Apple Watch Series 4  Neurological Assessment   \n",
       "4           1     PADS  Apple Watch Series 4  Neurological Assessment   \n",
       "\n",
       "  record_name  rows device_location      Time  Accelerometer_X  \\\n",
       "0     Relaxed  2048       LeftWrist  0.000000        -0.003958   \n",
       "1     Relaxed  2048       LeftWrist  0.009903        -0.004005   \n",
       "2     Relaxed  2048       LeftWrist  0.019901         0.000833   \n",
       "3     Relaxed  2048       LeftWrist  0.029907        -0.000191   \n",
       "4     Relaxed  2048       LeftWrist  0.039984         0.001769   \n",
       "\n",
       "   Accelerometer_Y  Accelerometer_Z  Gyroscope_X  Gyroscope_Y  Gyroscope_Z  \n",
       "0         0.002360     1.746120e-03    -0.015492     0.005616     0.001034  \n",
       "1         0.002259     8.355394e-04    -0.012276     0.005605    -0.003218  \n",
       "2         0.002225     9.437218e-04    -0.009051     0.002432    -0.002137  \n",
       "3         0.004109     4.783000e-07    -0.008911     0.002154    -0.000931  \n",
       "4         0.004064    -1.902400e-03    -0.007830     0.000034     0.000145  "
      ]
     },
     "execution_count": 20,
     "metadata": {},
     "output_type": "execute_result"
    }
   ],
   "source": [
    "movement_data.head()"
   ]
  },
  {
   "cell_type": "code",
   "execution_count": 22,
   "id": "46c56768-383b-4a99-9b90-1c75a6066705",
   "metadata": {},
   "outputs": [
    {
     "data": {
      "text/plain": [
       "(13447168, 14)"
      ]
     },
     "execution_count": 22,
     "metadata": {},
     "output_type": "execute_result"
    }
   ],
   "source": [
    "movement_data.shape"
   ]
  },
  {
   "cell_type": "code",
   "execution_count": 26,
   "id": "c2d0b389-bf7d-418f-bb07-be315b700aa0",
   "metadata": {},
   "outputs": [
    {
     "data": {
      "text/plain": [
       "array(['Relaxed', 'RelaxedTask', 'StretchHold', 'LiftHold', 'HoldWeight',\n",
       "       'PointFinger', 'DrinkGlas', 'CrossArms', 'TouchIndex', 'TouchNose',\n",
       "       'Entrainment'], dtype=object)"
      ]
     },
     "execution_count": 26,
     "metadata": {},
     "output_type": "execute_result"
    }
   ],
   "source": [
    "movement_data['record_name'].unique()"
   ]
  },
  {
   "cell_type": "code",
   "execution_count": 28,
   "id": "add37b39-a046-49a7-b9db-1d3caf0d801a",
   "metadata": {},
   "outputs": [
    {
     "name": "stdout",
     "output_type": "stream",
     "text": [
      "Saved CrossArms_LeftWrist.csv\n",
      "Saved CrossArms_RightWrist.csv\n",
      "Saved DrinkGlas_LeftWrist.csv\n",
      "Saved DrinkGlas_RightWrist.csv\n",
      "Saved Entrainment_LeftWrist.csv\n",
      "Saved Entrainment_RightWrist.csv\n",
      "Saved HoldWeight_LeftWrist.csv\n",
      "Saved HoldWeight_RightWrist.csv\n",
      "Saved LiftHold_LeftWrist.csv\n",
      "Saved LiftHold_RightWrist.csv\n",
      "Saved PointFinger_LeftWrist.csv\n",
      "Saved PointFinger_RightWrist.csv\n",
      "Saved Relaxed_LeftWrist.csv\n",
      "Saved Relaxed_RightWrist.csv\n",
      "Saved RelaxedTask_LeftWrist.csv\n",
      "Saved RelaxedTask_RightWrist.csv\n",
      "Saved StretchHold_LeftWrist.csv\n",
      "Saved StretchHold_RightWrist.csv\n",
      "Saved TouchIndex_LeftWrist.csv\n",
      "Saved TouchIndex_RightWrist.csv\n",
      "Saved TouchNose_LeftWrist.csv\n",
      "Saved TouchNose_RightWrist.csv\n",
      "All files saved successfully.\n"
     ]
    }
   ],
   "source": [
    "# List of record names and device locations\n",
    "record_names = [\"CrossArms\", \"DrinkGlas\", \"Entrainment\", \"HoldWeight\", \"LiftHold\", \"PointFinger\", \"Relaxed\", \"RelaxedTask\", \"StretchHold\", \"TouchIndex\", \"TouchNose\"]\n",
    "device_locations = [\"LeftWrist\", \"RightWrist\"]\n",
    "\n",
    "# Loop through each combination and save to CSV\n",
    "for record_name in record_names:\n",
    "    for device_location in device_locations:\n",
    "        # Filter the data\n",
    "        filtered_df = movement_data[(movement_data['record_name'] == record_name) & (movement_data['device_location'] == device_location)]\n",
    "        \n",
    "        # Save to CSV\n",
    "        csv_file_name = f\"{record_name}_{device_location}.csv\"\n",
    "        filtered_df.to_csv(csv_file_name, index=False)\n",
    "        print(f\"Saved {csv_file_name}\")\n",
    "\n",
    "print(\"All files saved successfully.\")\n"
   ]
  },
  {
   "cell_type": "code",
   "execution_count": null,
   "id": "8847e9b7-eb89-4fa6-8bd7-54dceb371ff8",
   "metadata": {},
   "outputs": [],
   "source": []
  }
 ],
 "metadata": {
  "kernelspec": {
   "display_name": "Python 3 (ipykernel)",
   "language": "python",
   "name": "python3"
  },
  "language_info": {
   "codemirror_mode": {
    "name": "ipython",
    "version": 3
   },
   "file_extension": ".py",
   "mimetype": "text/x-python",
   "name": "python",
   "nbconvert_exporter": "python",
   "pygments_lexer": "ipython3",
   "version": "3.11.7"
  }
 },
 "nbformat": 4,
 "nbformat_minor": 5
}
